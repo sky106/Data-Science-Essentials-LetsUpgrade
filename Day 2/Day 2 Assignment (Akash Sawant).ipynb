{
 "cells": [
  {
   "cell_type": "markdown",
   "metadata": {},
   "source": [
    "Name : Akash Arjun Sawant \n",
    "Clg : Shri Bhausaheb Vartak College\n",
    "Email ID : sawantakash106@gmail.com\n",
    "\n",
    "# Day 2 : Assignment"
   ]
  },
  {
   "cell_type": "markdown",
   "metadata": {},
   "source": [
    "# Question 1\n",
    "***Create an empty list. Accept 10 numbers from the user and append to it the list if it is an even number."
   ]
  },
  {
   "cell_type": "code",
   "execution_count": 8,
   "metadata": {},
   "outputs": [
    {
     "name": "stdout",
     "output_type": "stream",
     "text": [
      "45\n",
      "56\n",
      "23\n",
      "45\n",
      "58\n",
      "12\n",
      "43\n",
      "51\n",
      "78\n",
      "89\n",
      "[56, 58, 12, 78]\n"
     ]
    }
   ],
   "source": [
    "l = []\n",
    "for i in range(10):\n",
    "    a = int(input())\n",
    "    if(a % 2 == 0):\n",
    "        l.append(a)\n",
    "print(l)"
   ]
  },
  {
   "cell_type": "markdown",
   "metadata": {},
   "source": [
    "# Question 2\n",
    "***Create a notebook on LIST COMPREHENSION. This exercise is to put you in a Self learning mode"
   ]
  },
  {
   "cell_type": "code",
   "execution_count": 7,
   "metadata": {},
   "outputs": [
    {
     "name": "stdout",
     "output_type": "stream",
     "text": [
      "-----------LIST COMPREHENSION-------------\n",
      "[0, 2, 4, 6, 8]\n",
      "------------***------------\n",
      "[1, 2, 3, 4, 5, 6, 7, 8, 9, 10]\n",
      "------------***------------\n",
      "[0, 1, 0, 1, 0, 1, 0, 1, 0, 1]\n",
      "------------***------------\n",
      "[0, 1, 4, 9, 16, 25, 36, 49, 64, 81]\n",
      "------------***------------\n",
      "[1, 3, 5, 7, 9]\n",
      "------------***------------\n"
     ]
    }
   ],
   "source": [
    "print(\"-----------LIST COMPREHENSION-------------\")\n",
    "l1 = [i for i in range(10) if i%2==0]#printing even numbers\n",
    "print(l1)\n",
    "print(\"------------***------------\")\n",
    "l2 = [i for i in range(1,11)]#printing the list of first 10 natural numbers\n",
    "print(l2)\n",
    "print(\"------------***------------\")\n",
    "l3 = [i%2 for i in range(10)]#printing 0 for even 1 for odd\n",
    "print(l3)\n",
    "print(\"------------***------------\")\n",
    "l4 = [i**2 for i in range(10)]#printing squares of numbers\n",
    "print(l4)\n",
    "print(\"------------***------------\")\n",
    "l5 = [i for i in range(10) if i%2!=0]#printing odd numbers\n",
    "print(l5)\n",
    "print(\"------------***------------\")"
   ]
  },
  {
   "cell_type": "markdown",
   "metadata": {},
   "source": [
    "# Question 3\n",
    "***You have seen in the videos how powerful dictionary data structure is.\n",
    "\n",
    "In this assignment, given a number n, you have to write a program that generates a dictionary d which\n",
    "contains (i, i*i), where i is from 1 to n (both included).\n",
    "Then you have to just print this dictionary d.\n",
    "\n",
    "\n",
    "***Example:\n",
    "\n",
    "Input: 4\n",
    "\n",
    "will give output as\n",
    "\n",
    "{1: 1, 2: 4, 3: 9, 4: 16}\n",
    "\n",
    "\n",
    "\n",
    "***Input Format:\n",
    "\n",
    "Take the number n in a single line.\n",
    "\n",
    "Output Format:\n",
    "\n",
    "Print the dictionary d in a single line.\n",
    "\n",
    "\n",
    "***Example:\n",
    "\n",
    "Input:\n",
    "\n",
    "8\n",
    "\n",
    "Output:\n",
    "\n",
    "{1: 1, 2: 4, 3: 9, 4: 16, 5: 25, 6: 36, 7: 49, 8: 64}"
   ]
  },
  {
   "cell_type": "code",
   "execution_count": 9,
   "metadata": {},
   "outputs": [
    {
     "name": "stdout",
     "output_type": "stream",
     "text": [
      "5\n",
      "{1: 1, 2: 4, 3: 9, 4: 16, 5: 25}\n"
     ]
    }
   ],
   "source": [
    "dict1 = {}\n",
    "n = int(input())\n",
    "for i in range(1,n+1):\n",
    "    dict1[i] = i**2\n",
    "print(dict1)"
   ]
  },
  {
   "cell_type": "markdown",
   "metadata": {},
   "source": [
    "# Question 4\n",
    "***There is a robot which wants to go the charging point to charge itself.\n",
    "The robot moves in a 2-D plane from the original point (0,0). The robot can\n",
    "move toward UP, DOWN, LEFT and RIGHT with given steps.\n",
    "\n",
    "\n",
    "***The trace of robot movement is shown as the following:\n",
    "\n",
    "UP 5\n",
    "\n",
    "DOWN 3\n",
    "\n",
    "LEFT 3\n",
    "\n",
    "RIGHT 2\n",
    "\n",
    "Then, the output of the program should be:\n",
    "\n",
    "2\n",
    "\n",
    "\n",
    "The numbers after the direction are steps.\n",
    "Write a program to compute the distance between the current position after\n",
    "a sequence of movement and original point. If the distance is a float, then\n",
    "just print the nearest integer (use round() function for that and then convert\n",
    "it into an integer).\n",
    "\n",
    "\n",
    "***Input Format:\n",
    "\n",
    "The first line of the input contains a number n which implies the number of\n",
    "directions to be given.\n",
    "\n",
    "The next n lines contain the direction and the step separated by a space.\n",
    "\n",
    "Output Format:\n",
    "\n",
    "Print the distance from the original position to the current position.\n",
    "\n",
    "\n",
    "***Example:\n",
    "\n",
    "Input:\n",
    "\n",
    "4\n",
    "\n",
    "UP 5\n",
    "\n",
    "DOWN 3\n",
    "\n",
    "LEFT 3\n",
    "\n",
    "RIGHT 2\n",
    "\n",
    "Output:\n",
    "\n",
    "2"
   ]
  },
  {
   "cell_type": "code",
   "execution_count": 11,
   "metadata": {},
   "outputs": [
    {
     "name": "stdout",
     "output_type": "stream",
     "text": [
      "4\n",
      "UP 5\n",
      "DOWN 3\n",
      "LEFT 3\n",
      "RIGHT 2\n",
      "2\n"
     ]
    }
   ],
   "source": [
    "x = 0\n",
    "y = 0\n",
    "dist = 0\n",
    "num = int(input())\n",
    "for i in range(num):\n",
    "    l = input().upper().split()\n",
    "    if l[0] == 'RIGHT':\n",
    "        x += int(l[1])\n",
    "    elif l[0] == 'LEFT':\n",
    "        x -= int(l[1])\n",
    "    elif l[0] == 'UP':\n",
    "        y += int(l[1])\n",
    "    elif l[0] =='DOWN':\n",
    "        y -= int(l[1])\n",
    "dist = dist+(((x**2)+(y**2))**0.5)\n",
    "print(round(dist))"
   ]
  }
 ],
 "metadata": {
  "kernelspec": {
   "display_name": "Python 3",
   "language": "python",
   "name": "python3"
  },
  "language_info": {
   "codemirror_mode": {
    "name": "ipython",
    "version": 3
   },
   "file_extension": ".py",
   "mimetype": "text/x-python",
   "name": "python",
   "nbconvert_exporter": "python",
   "pygments_lexer": "ipython3",
   "version": "3.7.6"
  }
 },
 "nbformat": 4,
 "nbformat_minor": 4
}
